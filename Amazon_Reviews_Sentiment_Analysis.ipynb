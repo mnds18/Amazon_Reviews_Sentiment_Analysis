{
 "cells": [
  {
   "cell_type": "markdown",
   "metadata": {},
   "source": [
    "## This is the Sentiment Analysis for Amazon Reviews of the products listed on Amazon. The reviews are entered by actual customers. The review has attributes like stars, the actual text entered, we are generating Sentiment Polarity Score basis the data."
   ]
  },
  {
   "cell_type": "code",
   "execution_count": 3,
   "metadata": {},
   "outputs": [],
   "source": [
    "#### Loading all the required libraries here\n",
    "from lxml import html  \n",
    "import requests\n",
    "import pandas as pd\n",
    "from nltk.corpus import stopwords\n",
    "from textblob import TextBlob\n",
    "import matplotlib.pyplot as plt\n",
    "\n",
    "amazon_url = 'https://www.amazon.co.uk/Hive-Heating-Thermostat-Professional-Installation/product-reviews/B011B3J6KY/ref=cm_cr_othr_d_show_all?ie=UTF8&reviewerType=all_reviews&pageNumber='\n",
    "user_agent = 'Mozilla/5.0 (Macintosh; Intel Mac OS X 10_12_6) AppleWebKit/537.36 (KHTML, like Gecko) Chrome/62.0.3202.94 Safari/537.36'\n",
    "\n",
    "headers = {'User-Agent': user_agent}\n",
    "page = requests.get(amazon_url, headers = headers)\n",
    "parser = html.fromstring(page.content)"
   ]
  },
  {
   "cell_type": "code",
   "execution_count": 9,
   "metadata": {},
   "outputs": [],
   "source": [
    "import sys\n",
    "import numpy as np\n",
    "import pandas as pd\n",
    "import matplotlib\n",
    "import matplotlib.pyplot as plt\n",
    "import sklearn\n",
    "# import utilities\n",
    "# import scikitplot as skplt\n",
    "import nltk"
   ]
  },
  {
   "cell_type": "markdown",
   "metadata": {},
   "source": [
    "#### Download all the stopwords package here"
   ]
  },
  {
   "cell_type": "code",
   "execution_count": 10,
   "metadata": {},
   "outputs": [
    {
     "name": "stdout",
     "output_type": "stream",
     "text": [
      "[nltk_data] Downloading package stopwords to\n",
      "[nltk_data]     C:\\Users\\mnds\\AppData\\Roaming\\nltk_data...\n",
      "[nltk_data]   Unzipping corpora\\stopwords.zip.\n"
     ]
    },
    {
     "data": {
      "text/plain": [
       "True"
      ]
     },
     "execution_count": 10,
     "metadata": {},
     "output_type": "execute_result"
    }
   ],
   "source": [
    "nltk.download('stopwords')"
   ]
  },
  {
   "cell_type": "code",
   "execution_count": 11,
   "metadata": {},
   "outputs": [
    {
     "name": "stdout",
     "output_type": "stream",
     "text": [
      "[nltk_data] Downloading package punkt to\n",
      "[nltk_data]     C:\\Users\\mnds\\AppData\\Roaming\\nltk_data...\n",
      "[nltk_data]   Package punkt is already up-to-date!\n"
     ]
    },
    {
     "data": {
      "text/plain": [
       "True"
      ]
     },
     "execution_count": 11,
     "metadata": {},
     "output_type": "execute_result"
    }
   ],
   "source": [
    "nltk.download('punkt')"
   ]
  },
  {
   "cell_type": "code",
   "execution_count": 12,
   "metadata": {},
   "outputs": [
    {
     "name": "stdout",
     "output_type": "stream",
     "text": [
      "[nltk_data] Downloading package wordnet to\n",
      "[nltk_data]     C:\\Users\\mnds\\AppData\\Roaming\\nltk_data...\n",
      "[nltk_data]   Package wordnet is already up-to-date!\n"
     ]
    },
    {
     "data": {
      "text/plain": [
       "True"
      ]
     },
     "execution_count": 12,
     "metadata": {},
     "output_type": "execute_result"
    }
   ],
   "source": [
    "nltk.download('wordnet')"
   ]
  },
  {
   "cell_type": "code",
   "execution_count": 13,
   "metadata": {},
   "outputs": [],
   "source": [
    "xpath_reviews = '//div[@data-hook=\"review\"]'\n",
    "reviews = parser.xpath(xpath_reviews)"
   ]
  },
  {
   "cell_type": "code",
   "execution_count": 14,
   "metadata": {},
   "outputs": [],
   "source": [
    "xpath_rating  = './/i[@data-hook=\"review-star-rating\"]//text()' \n",
    "xpath_title   = './/a[@data-hook=\"review-title\"]//text()'\n",
    "xpath_author  = './/a[@data-hook=\"review-author\"]//text()'\n",
    "xpath_date    = './/span[@data-hook=\"review-date\"]//text()'\n",
    "xpath_body    = './/span[@data-hook=\"review-body\"]//text()'\n",
    "xpath_helpful = './/span[@data-hook=\"helpful-vote-statement\"]//text()'"
   ]
  },
  {
   "cell_type": "code",
   "execution_count": 15,
   "metadata": {},
   "outputs": [],
   "source": [
    "# Create a dataframe here. \n",
    "\n",
    "reviews_df = pd.DataFrame()\n",
    "for review in reviews:\n",
    "    rating  = review.xpath(xpath_rating)\n",
    "    title   = review.xpath(xpath_title)\n",
    "    author  = review.xpath(xpath_author)\n",
    "    date    = review.xpath(xpath_date)\n",
    "    body    = review.xpath(xpath_body)\n",
    "    helpful = review.xpath(xpath_helpful)\n",
    "\n",
    "    review_dict = {'rating': rating,\n",
    "                   'title': title,\n",
    "                   'author': author,             \n",
    "                   'date': date,\n",
    "                   'body': body,\n",
    "                   'helpful': helpful}\n",
    "    reviews_df = reviews_df.append(review_dict, ignore_index=True)"
   ]
  },
  {
   "cell_type": "code",
   "execution_count": 16,
   "metadata": {},
   "outputs": [],
   "source": [
    "all_reviews = pd.DataFrame()"
   ]
  },
  {
   "cell_type": "code",
   "execution_count": 17,
   "metadata": {},
   "outputs": [],
   "source": [
    "# Fill the values of the reviews here. . \n",
    "\n",
    "for i in range(1,90):\n",
    "    amazon_url = 'https://www.amazon.co.uk/Hive-Heating-Thermostat-Professional-Installation/product-reviews/B011B3J6KY/ref=cm_cr_othr_d_show_all?ie=UTF8&reviewerType=all_reviews&pageNumber='+str(i)\n",
    "    headers = {'User-Agent': user_agent}\n",
    "    page = requests.get(amazon_url, headers = headers)\n",
    "    parser = html.fromstring(page.content)\n",
    "    xpath_reviews = '//div[@data-hook=\"review\"]'\n",
    "    reviews = parser.xpath(xpath_reviews)\n",
    "    reviews_df = pd.DataFrame()\n",
    "    xpath_rating  = './/i[@data-hook=\"review-star-rating\"]//text()' \n",
    "    xpath_title   = './/a[@data-hook=\"review-title\"]//text()'\n",
    "    xpath_author  = './/a[@data-hook=\"review-author\"]//text()'\n",
    "    xpath_date    = './/span[@data-hook=\"review-date\"]//text()'\n",
    "    xpath_body    = './/span[@data-hook=\"review-body\"]//text()'\n",
    "    xpath_helpful = './/span[@data-hook=\"helpful-vote-statement\"]//text()'\n",
    "    #print(i)\n",
    "    for review in reviews:\n",
    "        rating  = review.xpath(xpath_rating)\n",
    "        title   = review.xpath(xpath_title)\n",
    "        author  = review.xpath(xpath_author)\n",
    "        date    = review.xpath(xpath_date)\n",
    "        body    = review.xpath(xpath_body)\n",
    "        helpful = review.xpath(xpath_helpful)\n",
    "\n",
    "        review_dict = {'rating': rating,\n",
    "                       'title': title,\n",
    "                       'author': author,             \n",
    "                       'date': date,\n",
    "                       'body': body,\n",
    "                       'helpful': helpful}\n",
    "        reviews_df = reviews_df.append(review_dict, ignore_index=True)\n",
    "    #print(reviews_df)\n",
    "    all_reviews = all_reviews.append(reviews_df)\n",
    "    \n"
   ]
  },
  {
   "cell_type": "code",
   "execution_count": 18,
   "metadata": {},
   "outputs": [
    {
     "data": {
      "text/html": [
       "<div>\n",
       "<style scoped>\n",
       "    .dataframe tbody tr th:only-of-type {\n",
       "        vertical-align: middle;\n",
       "    }\n",
       "\n",
       "    .dataframe tbody tr th {\n",
       "        vertical-align: top;\n",
       "    }\n",
       "\n",
       "    .dataframe thead th {\n",
       "        text-align: right;\n",
       "    }\n",
       "</style>\n",
       "<table border=\"1\" class=\"dataframe\">\n",
       "  <thead>\n",
       "    <tr style=\"text-align: right;\">\n",
       "      <th></th>\n",
       "      <th>author</th>\n",
       "      <th>body</th>\n",
       "      <th>date</th>\n",
       "      <th>helpful</th>\n",
       "      <th>rating</th>\n",
       "      <th>title</th>\n",
       "    </tr>\n",
       "  </thead>\n",
       "  <tbody>\n",
       "    <tr>\n",
       "      <th>0</th>\n",
       "      <td>[]</td>\n",
       "      <td>[I paid for the BritishGas install, the engine...</td>\n",
       "      <td>[8 October 2018]</td>\n",
       "      <td>[210 people found this helpful]</td>\n",
       "      <td>[2.0 out of 5 stars]</td>\n",
       "      <td>[BritishGas installation was a joke, buy it wi...</td>\n",
       "    </tr>\n",
       "    <tr>\n",
       "      <th>1</th>\n",
       "      <td>[]</td>\n",
       "      <td>[I haven't had this installed yet - two week w...</td>\n",
       "      <td>[29 September 2018]</td>\n",
       "      <td>[85 people found this helpful]</td>\n",
       "      <td>[4.0 out of 5 stars]</td>\n",
       "      <td>[PLEASE READ THIS IF YOU BUY WITH INSTALLATION...</td>\n",
       "    </tr>\n",
       "    <tr>\n",
       "      <th>2</th>\n",
       "      <td>[]</td>\n",
       "      <td>[Great product, replaced a very old 80's slide...</td>\n",
       "      <td>[16 January 2018]</td>\n",
       "      <td>[161 people found this helpful]</td>\n",
       "      <td>[5.0 out of 5 stars]</td>\n",
       "      <td>[Really useful, and sort of cool!]</td>\n",
       "    </tr>\n",
       "    <tr>\n",
       "      <th>3</th>\n",
       "      <td>[]</td>\n",
       "      <td>[I was a bit apprehensive buying this, in case...</td>\n",
       "      <td>[1 October 2018]</td>\n",
       "      <td>[42 people found this helpful]</td>\n",
       "      <td>[5.0 out of 5 stars]</td>\n",
       "      <td>[Simple to install and use, great tech]</td>\n",
       "    </tr>\n",
       "    <tr>\n",
       "      <th>4</th>\n",
       "      <td>[]</td>\n",
       "      <td>[I bought this item from Amazon Marketplace - ...</td>\n",
       "      <td>[23 October 2018]</td>\n",
       "      <td>[33 people found this helpful]</td>\n",
       "      <td>[1.0 out of 5 stars]</td>\n",
       "      <td>[Warning if buying used off Amazon Marketplace...</td>\n",
       "    </tr>\n",
       "  </tbody>\n",
       "</table>\n",
       "</div>"
      ],
      "text/plain": [
       "  author                                               body  \\\n",
       "0     []  [I paid for the BritishGas install, the engine...   \n",
       "1     []  [I haven't had this installed yet - two week w...   \n",
       "2     []  [Great product, replaced a very old 80's slide...   \n",
       "3     []  [I was a bit apprehensive buying this, in case...   \n",
       "4     []  [I bought this item from Amazon Marketplace - ...   \n",
       "\n",
       "                  date                          helpful                rating  \\\n",
       "0     [8 October 2018]  [210 people found this helpful]  [2.0 out of 5 stars]   \n",
       "1  [29 September 2018]   [85 people found this helpful]  [4.0 out of 5 stars]   \n",
       "2    [16 January 2018]  [161 people found this helpful]  [5.0 out of 5 stars]   \n",
       "3     [1 October 2018]   [42 people found this helpful]  [5.0 out of 5 stars]   \n",
       "4    [23 October 2018]   [33 people found this helpful]  [1.0 out of 5 stars]   \n",
       "\n",
       "                                               title  \n",
       "0  [BritishGas installation was a joke, buy it wi...  \n",
       "1  [PLEASE READ THIS IF YOU BUY WITH INSTALLATION...  \n",
       "2                 [Really useful, and sort of cool!]  \n",
       "3            [Simple to install and use, great tech]  \n",
       "4  [Warning if buying used off Amazon Marketplace...  "
      ]
     },
     "execution_count": 18,
     "metadata": {},
     "output_type": "execute_result"
    }
   ],
   "source": [
    "all_reviews.head()"
   ]
  },
  {
   "cell_type": "markdown",
   "metadata": {},
   "source": [
    "#### Define a path here"
   ]
  },
  {
   "cell_type": "code",
   "execution_count": 19,
   "metadata": {},
   "outputs": [],
   "source": [
    "out_folder = 'C:/Users/mnds/PythonFiles/'"
   ]
  },
  {
   "cell_type": "markdown",
   "metadata": {},
   "source": [
    "#### Save the reviews locally"
   ]
  },
  {
   "cell_type": "code",
   "execution_count": 20,
   "metadata": {},
   "outputs": [],
   "source": [
    "all_reviews.to_csv(out_folder + 'Reviews.csv')"
   ]
  },
  {
   "cell_type": "markdown",
   "metadata": {},
   "source": [
    "#### Load the data and start the analysis"
   ]
  },
  {
   "cell_type": "code",
   "execution_count": 21,
   "metadata": {},
   "outputs": [],
   "source": [
    "#Load the data now and analyse it\n",
    "data_path = 'C:/Users/mnds/PythonFiles/'\n",
    "reviewDataCSV = 'Reviews.csv'\n",
    "reviewData = (pd.read_csv(data_path+reviewDataCSV,index_col=0,))"
   ]
  },
  {
   "cell_type": "code",
   "execution_count": 22,
   "metadata": {},
   "outputs": [
    {
     "data": {
      "text/plain": [
       "(712, 6)"
      ]
     },
     "execution_count": 22,
     "metadata": {},
     "output_type": "execute_result"
    }
   ],
   "source": [
    "reviewData.shape"
   ]
  },
  {
   "cell_type": "code",
   "execution_count": 23,
   "metadata": {},
   "outputs": [
    {
     "data": {
      "text/plain": [
       "array([\"['2.0 out of 5 stars']\", \"['4.0 out of 5 stars']\",\n",
       "       \"['5.0 out of 5 stars']\", \"['1.0 out of 5 stars']\",\n",
       "       \"['3.0 out of 5 stars']\"], dtype=object)"
      ]
     },
     "execution_count": 23,
     "metadata": {},
     "output_type": "execute_result"
    }
   ],
   "source": [
    "reviewData.rating.unique()"
   ]
  },
  {
   "cell_type": "code",
   "execution_count": 24,
   "metadata": {},
   "outputs": [
    {
     "data": {
      "text/plain": [
       "['5.0 out of 5 stars']    548\n",
       "['4.0 out of 5 stars']     61\n",
       "['1.0 out of 5 stars']     60\n",
       "['3.0 out of 5 stars']     26\n",
       "['2.0 out of 5 stars']     17\n",
       "Name: rating, dtype: int64"
      ]
     },
     "execution_count": 24,
     "metadata": {},
     "output_type": "execute_result"
    }
   ],
   "source": [
    "reviewData.rating.value_counts()"
   ]
  },
  {
   "cell_type": "code",
   "execution_count": 25,
   "metadata": {},
   "outputs": [
    {
     "data": {
      "text/plain": [
       "61"
      ]
     },
     "execution_count": 25,
     "metadata": {},
     "output_type": "execute_result"
    }
   ],
   "source": [
    "reviewData.rating.value_counts()[1]"
   ]
  },
  {
   "cell_type": "code",
   "execution_count": 26,
   "metadata": {},
   "outputs": [
    {
     "data": {
      "text/plain": [
       "\"['2.0 out of 5 stars']\""
      ]
     },
     "execution_count": 26,
     "metadata": {},
     "output_type": "execute_result"
    }
   ],
   "source": [
    "reviewData.rating.unique()[0]"
   ]
  },
  {
   "cell_type": "code",
   "execution_count": 27,
   "metadata": {},
   "outputs": [
    {
     "data": {
      "image/png": "[encoded data removed]",
      "text/plain": [
       "<Figure size 432x288 with 1 Axes>"
      ]
     },
     "metadata": {},
     "output_type": "display_data"
    }
   ],
   "source": [
    "\n",
    "labels = '5 Stars', '1 Star', '4 Stars', '3 Stars', '2 Stars'\n",
    "sizes = [reviewData.rating.value_counts()[0], reviewData.rating.value_counts()[1],reviewData.rating.value_counts()[2],reviewData.rating.value_counts()[3],reviewData.rating.value_counts()[4]]\n",
    "colors = ['green', 'yellowgreen', 'coral', 'lightblue', 'grey']\n",
    "explode = (0, 0, 0, 0, 0)  # explode 1st slice\n",
    " \n",
    "# Plot\n",
    "plt.pie(sizes, explode=explode, labels=labels, colors=colors,\n",
    "        autopct='%1.1f%%', shadow=True, startangle=140)\n",
    " \n",
    "plt.axis('equal')\n",
    "plt.show()"
   ]
  },
  {
   "cell_type": "code",
   "execution_count": 28,
   "metadata": {},
   "outputs": [
    {
     "data": {
      "text/plain": [
       "0    ['I paid for the BritishGas install, the engin...\n",
       "1    [\"I haven't had this installed yet - two week ...\n",
       "2    [\"Great product, replaced a very old 80's slid...\n",
       "3    ['I was a bit apprehensive buying this, in cas...\n",
       "4    ['I bought this item from Amazon Marketplace -...\n",
       "Name: body, dtype: object"
      ]
     },
     "execution_count": 28,
     "metadata": {},
     "output_type": "execute_result"
    }
   ],
   "source": [
    "reviewData.body.head()"
   ]
  },
  {
   "cell_type": "code",
   "execution_count": 29,
   "metadata": {},
   "outputs": [
    {
     "data": {
      "text/plain": [
       "\"['9 September 2018']\""
      ]
     },
     "execution_count": 29,
     "metadata": {},
     "output_type": "execute_result"
    }
   ],
   "source": [
    "# the latest review\n",
    "max(reviewData.date)"
   ]
  },
  {
   "cell_type": "code",
   "execution_count": 30,
   "metadata": {},
   "outputs": [
    {
     "data": {
      "text/plain": [
       "\"['1 April 2016']\""
      ]
     },
     "execution_count": 30,
     "metadata": {},
     "output_type": "execute_result"
    }
   ],
   "source": [
    "# the oldest review\n",
    "min(reviewData.date)"
   ]
  },
  {
   "cell_type": "markdown",
   "metadata": {},
   "source": [
    "## The Text Analytics Starts"
   ]
  },
  {
   "cell_type": "markdown",
   "metadata": {},
   "source": [
    "##### Calculate the number of words in each review"
   ]
  },
  {
   "cell_type": "code",
   "execution_count": 31,
   "metadata": {},
   "outputs": [],
   "source": [
    "reviewsBodyWordCount = reviewData.body.apply(lambda x: len(str(x).split(\" \")))"
   ]
  },
  {
   "cell_type": "code",
   "execution_count": 32,
   "metadata": {},
   "outputs": [
    {
     "data": {
      "text/plain": [
       "0    817\n",
       "4    803\n",
       "7    710\n",
       "7    520\n",
       "5    431\n",
       "2    367\n",
       "6    365\n",
       "7    357\n",
       "5    355\n",
       "0    355\n",
       "6    353\n",
       "3    350\n",
       "0    346\n",
       "3    338\n",
       "0    320\n",
       "0    298\n",
       "3    297\n",
       "1    295\n",
       "4    287\n",
       "0    279\n",
       "3    269\n",
       "3    264\n",
       "1    254\n",
       "4    244\n",
       "1    238\n",
       "6    228\n",
       "5    205\n",
       "2    204\n",
       "7    202\n",
       "3    201\n",
       "    ... \n",
       "2      3\n",
       "1      3\n",
       "2      3\n",
       "6      3\n",
       "3      3\n",
       "3      2\n",
       "3      2\n",
       "2      2\n",
       "6      2\n",
       "0      2\n",
       "5      2\n",
       "6      2\n",
       "2      2\n",
       "2      2\n",
       "7      2\n",
       "7      2\n",
       "0      2\n",
       "0      2\n",
       "0      2\n",
       "3      2\n",
       "4      1\n",
       "4      1\n",
       "1      1\n",
       "0      1\n",
       "5      1\n",
       "1      1\n",
       "5      1\n",
       "7      1\n",
       "0      1\n",
       "2      1\n",
       "Name: body, Length: 712, dtype: int64"
      ]
     },
     "execution_count": 32,
     "metadata": {},
     "output_type": "execute_result"
    }
   ],
   "source": [
    "reviewsBodyWordCount.sort_values(ascending= False)"
   ]
  },
  {
   "cell_type": "code",
   "execution_count": 33,
   "metadata": {},
   "outputs": [
    {
     "data": {
      "text/plain": [
       "0    817\n",
       "4    803\n",
       "7    710\n",
       "7    520\n",
       "5    431\n",
       "Name: body, dtype: int64"
      ]
     },
     "execution_count": 33,
     "metadata": {},
     "output_type": "execute_result"
    }
   ],
   "source": [
    "reviewsBodyWordCount.nlargest(n=5, keep='first')"
   ]
  },
  {
   "cell_type": "code",
   "execution_count": 34,
   "metadata": {},
   "outputs": [
    {
     "data": {
      "text/plain": [
       "1    1\n",
       "4    1\n",
       "2    1\n",
       "0    1\n",
       "5    1\n",
       "Name: body, dtype: int64"
      ]
     },
     "execution_count": 34,
     "metadata": {},
     "output_type": "execute_result"
    }
   ],
   "source": [
    "reviewsBodyWordCount.nsmallest(n=5, keep='first')"
   ]
  },
  {
   "cell_type": "markdown",
   "metadata": {},
   "source": [
    "##### Calculate the number of characters in each review"
   ]
  },
  {
   "cell_type": "code",
   "execution_count": 35,
   "metadata": {},
   "outputs": [],
   "source": [
    "reviewsBodyCharCount = reviewData.body.str.len() ## this also includes spaces"
   ]
  },
  {
   "cell_type": "code",
   "execution_count": 36,
   "metadata": {},
   "outputs": [
    {
     "data": {
      "text/plain": [
       "0    4524\n",
       "4    4289\n",
       "7    3815\n",
       "7    2817\n",
       "5    2450\n",
       "Name: body, dtype: int64"
      ]
     },
     "execution_count": 36,
     "metadata": {},
     "output_type": "execute_result"
    }
   ],
   "source": [
    "reviewsBodyCharCount.nlargest(n=5, keep='first')"
   ]
  },
  {
   "cell_type": "code",
   "execution_count": 37,
   "metadata": {},
   "outputs": [
    {
     "data": {
      "text/plain": [
       "0    6\n",
       "1    7\n",
       "1    8\n",
       "5    8\n",
       "5    8\n",
       "Name: body, dtype: int64"
      ]
     },
     "execution_count": 37,
     "metadata": {},
     "output_type": "execute_result"
    }
   ],
   "source": [
    "reviewsBodyCharCount.nsmallest(n=5, keep='first')"
   ]
  },
  {
   "cell_type": "markdown",
   "metadata": {},
   "source": [
    "## Pre-processing starts"
   ]
  },
  {
   "cell_type": "markdown",
   "metadata": {},
   "source": [
    "#### Convert all the words to lower case"
   ]
  },
  {
   "cell_type": "code",
   "execution_count": 38,
   "metadata": {},
   "outputs": [
    {
     "data": {
      "text/plain": [
       "pandas.core.strings.StringMethods"
      ]
     },
     "execution_count": 38,
     "metadata": {},
     "output_type": "execute_result"
    }
   ],
   "source": [
    "type(reviewData.body.str)"
   ]
  },
  {
   "cell_type": "code",
   "execution_count": 39,
   "metadata": {},
   "outputs": [
    {
     "data": {
      "text/html": [
       "<div>\n",
       "<style scoped>\n",
       "    .dataframe tbody tr th:only-of-type {\n",
       "        vertical-align: middle;\n",
       "    }\n",
       "\n",
       "    .dataframe tbody tr th {\n",
       "        vertical-align: top;\n",
       "    }\n",
       "\n",
       "    .dataframe thead th {\n",
       "        text-align: right;\n",
       "    }\n",
       "</style>\n",
       "<table border=\"1\" class=\"dataframe\">\n",
       "  <thead>\n",
       "    <tr style=\"text-align: right;\">\n",
       "      <th></th>\n",
       "      <th>author</th>\n",
       "      <th>body</th>\n",
       "      <th>date</th>\n",
       "      <th>helpful</th>\n",
       "      <th>rating</th>\n",
       "      <th>title</th>\n",
       "    </tr>\n",
       "  </thead>\n",
       "  <tbody>\n",
       "    <tr>\n",
       "      <th>0</th>\n",
       "      <td>[]</td>\n",
       "      <td>['I paid for the BritishGas install, the engin...</td>\n",
       "      <td>['8 October 2018']</td>\n",
       "      <td>['210 people found this helpful']</td>\n",
       "      <td>['2.0 out of 5 stars']</td>\n",
       "      <td>['BritishGas installation was a joke, buy it w...</td>\n",
       "    </tr>\n",
       "    <tr>\n",
       "      <th>1</th>\n",
       "      <td>[]</td>\n",
       "      <td>[\"I haven't had this installed yet - two week ...</td>\n",
       "      <td>['29 September 2018']</td>\n",
       "      <td>['85 people found this helpful']</td>\n",
       "      <td>['4.0 out of 5 stars']</td>\n",
       "      <td>['PLEASE READ THIS IF YOU BUY WITH INSTALLATIO...</td>\n",
       "    </tr>\n",
       "    <tr>\n",
       "      <th>2</th>\n",
       "      <td>[]</td>\n",
       "      <td>[\"Great product, replaced a very old 80's slid...</td>\n",
       "      <td>['16 January 2018']</td>\n",
       "      <td>['161 people found this helpful']</td>\n",
       "      <td>['5.0 out of 5 stars']</td>\n",
       "      <td>['Really useful, and sort of cool!']</td>\n",
       "    </tr>\n",
       "    <tr>\n",
       "      <th>3</th>\n",
       "      <td>[]</td>\n",
       "      <td>['I was a bit apprehensive buying this, in cas...</td>\n",
       "      <td>['1 October 2018']</td>\n",
       "      <td>['42 people found this helpful']</td>\n",
       "      <td>['5.0 out of 5 stars']</td>\n",
       "      <td>['Simple to install and use, great tech']</td>\n",
       "    </tr>\n",
       "    <tr>\n",
       "      <th>4</th>\n",
       "      <td>[]</td>\n",
       "      <td>['I bought this item from Amazon Marketplace -...</td>\n",
       "      <td>['23 October 2018']</td>\n",
       "      <td>['33 people found this helpful']</td>\n",
       "      <td>['1.0 out of 5 stars']</td>\n",
       "      <td>[\"Warning if buying used off Amazon Marketplac...</td>\n",
       "    </tr>\n",
       "  </tbody>\n",
       "</table>\n",
       "</div>"
      ],
      "text/plain": [
       "  author                                               body  \\\n",
       "0     []  ['I paid for the BritishGas install, the engin...   \n",
       "1     []  [\"I haven't had this installed yet - two week ...   \n",
       "2     []  [\"Great product, replaced a very old 80's slid...   \n",
       "3     []  ['I was a bit apprehensive buying this, in cas...   \n",
       "4     []  ['I bought this item from Amazon Marketplace -...   \n",
       "\n",
       "                    date                            helpful  \\\n",
       "0     ['8 October 2018']  ['210 people found this helpful']   \n",
       "1  ['29 September 2018']   ['85 people found this helpful']   \n",
       "2    ['16 January 2018']  ['161 people found this helpful']   \n",
       "3     ['1 October 2018']   ['42 people found this helpful']   \n",
       "4    ['23 October 2018']   ['33 people found this helpful']   \n",
       "\n",
       "                   rating                                              title  \n",
       "0  ['2.0 out of 5 stars']  ['BritishGas installation was a joke, buy it w...  \n",
       "1  ['4.0 out of 5 stars']  ['PLEASE READ THIS IF YOU BUY WITH INSTALLATIO...  \n",
       "2  ['5.0 out of 5 stars']               ['Really useful, and sort of cool!']  \n",
       "3  ['5.0 out of 5 stars']          ['Simple to install and use, great tech']  \n",
       "4  ['1.0 out of 5 stars']  [\"Warning if buying used off Amazon Marketplac...  "
      ]
     },
     "execution_count": 39,
     "metadata": {},
     "output_type": "execute_result"
    }
   ],
   "source": [
    "reviewData.head()"
   ]
  },
  {
   "cell_type": "code",
   "execution_count": 40,
   "metadata": {},
   "outputs": [],
   "source": [
    "reviewData.body = reviewData.body.str.lower()"
   ]
  },
  {
   "cell_type": "code",
   "execution_count": 41,
   "metadata": {},
   "outputs": [
    {
     "data": {
      "text/html": [
       "<div>\n",
       "<style scoped>\n",
       "    .dataframe tbody tr th:only-of-type {\n",
       "        vertical-align: middle;\n",
       "    }\n",
       "\n",
       "    .dataframe tbody tr th {\n",
       "        vertical-align: top;\n",
       "    }\n",
       "\n",
       "    .dataframe thead th {\n",
       "        text-align: right;\n",
       "    }\n",
       "</style>\n",
       "<table border=\"1\" class=\"dataframe\">\n",
       "  <thead>\n",
       "    <tr style=\"text-align: right;\">\n",
       "      <th></th>\n",
       "      <th>author</th>\n",
       "      <th>body</th>\n",
       "      <th>date</th>\n",
       "      <th>helpful</th>\n",
       "      <th>rating</th>\n",
       "      <th>title</th>\n",
       "    </tr>\n",
       "  </thead>\n",
       "  <tbody>\n",
       "    <tr>\n",
       "      <th>0</th>\n",
       "      <td>[]</td>\n",
       "      <td>['i paid for the britishgas install, the engin...</td>\n",
       "      <td>['8 October 2018']</td>\n",
       "      <td>['210 people found this helpful']</td>\n",
       "      <td>['2.0 out of 5 stars']</td>\n",
       "      <td>['BritishGas installation was a joke, buy it w...</td>\n",
       "    </tr>\n",
       "    <tr>\n",
       "      <th>1</th>\n",
       "      <td>[]</td>\n",
       "      <td>[\"i haven't had this installed yet - two week ...</td>\n",
       "      <td>['29 September 2018']</td>\n",
       "      <td>['85 people found this helpful']</td>\n",
       "      <td>['4.0 out of 5 stars']</td>\n",
       "      <td>['PLEASE READ THIS IF YOU BUY WITH INSTALLATIO...</td>\n",
       "    </tr>\n",
       "    <tr>\n",
       "      <th>2</th>\n",
       "      <td>[]</td>\n",
       "      <td>[\"great product, replaced a very old 80's slid...</td>\n",
       "      <td>['16 January 2018']</td>\n",
       "      <td>['161 people found this helpful']</td>\n",
       "      <td>['5.0 out of 5 stars']</td>\n",
       "      <td>['Really useful, and sort of cool!']</td>\n",
       "    </tr>\n",
       "    <tr>\n",
       "      <th>3</th>\n",
       "      <td>[]</td>\n",
       "      <td>['i was a bit apprehensive buying this, in cas...</td>\n",
       "      <td>['1 October 2018']</td>\n",
       "      <td>['42 people found this helpful']</td>\n",
       "      <td>['5.0 out of 5 stars']</td>\n",
       "      <td>['Simple to install and use, great tech']</td>\n",
       "    </tr>\n",
       "    <tr>\n",
       "      <th>4</th>\n",
       "      <td>[]</td>\n",
       "      <td>['i bought this item from amazon marketplace -...</td>\n",
       "      <td>['23 October 2018']</td>\n",
       "      <td>['33 people found this helpful']</td>\n",
       "      <td>['1.0 out of 5 stars']</td>\n",
       "      <td>[\"Warning if buying used off Amazon Marketplac...</td>\n",
       "    </tr>\n",
       "  </tbody>\n",
       "</table>\n",
       "</div>"
      ],
      "text/plain": [
       "  author                                               body  \\\n",
       "0     []  ['i paid for the britishgas install, the engin...   \n",
       "1     []  [\"i haven't had this installed yet - two week ...   \n",
       "2     []  [\"great product, replaced a very old 80's slid...   \n",
       "3     []  ['i was a bit apprehensive buying this, in cas...   \n",
       "4     []  ['i bought this item from amazon marketplace -...   \n",
       "\n",
       "                    date                            helpful  \\\n",
       "0     ['8 October 2018']  ['210 people found this helpful']   \n",
       "1  ['29 September 2018']   ['85 people found this helpful']   \n",
       "2    ['16 January 2018']  ['161 people found this helpful']   \n",
       "3     ['1 October 2018']   ['42 people found this helpful']   \n",
       "4    ['23 October 2018']   ['33 people found this helpful']   \n",
       "\n",
       "                   rating                                              title  \n",
       "0  ['2.0 out of 5 stars']  ['BritishGas installation was a joke, buy it w...  \n",
       "1  ['4.0 out of 5 stars']  ['PLEASE READ THIS IF YOU BUY WITH INSTALLATIO...  \n",
       "2  ['5.0 out of 5 stars']               ['Really useful, and sort of cool!']  \n",
       "3  ['5.0 out of 5 stars']          ['Simple to install and use, great tech']  \n",
       "4  ['1.0 out of 5 stars']  [\"Warning if buying used off Amazon Marketplac...  "
      ]
     },
     "execution_count": 41,
     "metadata": {},
     "output_type": "execute_result"
    }
   ],
   "source": [
    "# all the body reviews are converted to lowercase\n",
    "reviewData.head()"
   ]
  },
  {
   "cell_type": "markdown",
   "metadata": {},
   "source": [
    "#### Remove the punctuations"
   ]
  },
  {
   "cell_type": "code",
   "execution_count": 42,
   "metadata": {},
   "outputs": [],
   "source": [
    "reviewData.body = reviewData.body.str.replace('[^\\w\\s]','')"
   ]
  },
  {
   "cell_type": "markdown",
   "metadata": {},
   "source": [
    "#### Remove the Stop Words, which are the commonly occuring words like the, a, an, is etc."
   ]
  },
  {
   "cell_type": "code",
   "execution_count": 43,
   "metadata": {},
   "outputs": [],
   "source": [
    "stop = stopwords.words('english')"
   ]
  },
  {
   "cell_type": "code",
   "execution_count": 44,
   "metadata": {},
   "outputs": [],
   "source": [
    "reviewData.body = reviewData.body.apply(lambda x: \" \".join(x for x in x.split() if x not in stop))"
   ]
  },
  {
   "cell_type": "code",
   "execution_count": 45,
   "metadata": {},
   "outputs": [
    {
     "data": {
      "text/plain": [
       "0    paid britishgas install engineer turned made n...\n",
       "1    havent installed yet two week wait engineer re...\n",
       "2    great product replaced old 80s slide timer clo...\n",
       "3    bit apprehensive buying case wiring hassle wor...\n",
       "4    bought item amazon marketplace normally good w...\n",
       "Name: body, dtype: object"
      ]
     },
     "execution_count": 45,
     "metadata": {},
     "output_type": "execute_result"
    }
   ],
   "source": [
    "reviewData.body.head()"
   ]
  },
  {
   "cell_type": "markdown",
   "metadata": {},
   "source": [
    "##### These are the most comonly occuring words in our corpus. Depending on the requirement, we may remove or keep them. We are removing them here"
   ]
  },
  {
   "cell_type": "code",
   "execution_count": 46,
   "metadata": {},
   "outputs": [],
   "source": [
    "freq = pd.Series(' '.join(reviewData.body).split()).value_counts()[:20]"
   ]
  },
  {
   "cell_type": "code",
   "execution_count": 47,
   "metadata": {},
   "outputs": [
    {
     "data": {
      "text/plain": [
       "heating         388\n",
       "hive            345\n",
       "easy            295\n",
       "thermostat      247\n",
       "great           194\n",
       "use             188\n",
       "install         173\n",
       "installation    172\n",
       "product         169\n",
       "control         169\n",
       "system          163\n",
       "boiler          160\n",
       "gas             154\n",
       "set             150\n",
       "app             147\n",
       "home            147\n",
       "works           140\n",
       "british         136\n",
       "one             134\n",
       "good            129\n",
       "dtype: int64"
      ]
     },
     "execution_count": 47,
     "metadata": {},
     "output_type": "execute_result"
    }
   ],
   "source": [
    "freq"
   ]
  },
  {
   "cell_type": "code",
   "execution_count": 48,
   "metadata": {},
   "outputs": [],
   "source": [
    "freq = list(freq.index)\n",
    "reviewData.body = reviewData.body.apply(lambda x: \" \".join(x for x in x.split() if x not in freq))"
   ]
  },
  {
   "cell_type": "code",
   "execution_count": 49,
   "metadata": {},
   "outputs": [
    {
     "data": {
      "text/plain": [
       "0    paid britishgas engineer turned made noises lo...\n",
       "1    havent installed yet two week wait engineer re...\n",
       "2    replaced old 80s slide timer clock gravity fed...\n",
       "3    bit apprehensive buying case wiring hassle wor...\n",
       "4    bought item amazon marketplace normally way sa...\n",
       "Name: body, dtype: object"
      ]
     },
     "execution_count": 49,
     "metadata": {},
     "output_type": "execute_result"
    }
   ],
   "source": [
    "reviewData.body.head()"
   ]
  },
  {
   "cell_type": "markdown",
   "metadata": {},
   "source": [
    "##### Lets see which are the rare words, we are removing them"
   ]
  },
  {
   "cell_type": "code",
   "execution_count": 50,
   "metadata": {},
   "outputs": [],
   "source": [
    "freq = pd.Series(' '.join(reviewData.body).split()).value_counts()[-10:]"
   ]
  },
  {
   "cell_type": "code",
   "execution_count": 51,
   "metadata": {},
   "outputs": [
    {
     "data": {
      "text/plain": [
       "explains     1\n",
       "hands        1\n",
       "simplest     1\n",
       "tied         1\n",
       "smarthome    1\n",
       "eavh         1\n",
       "addworks     1\n",
       "angle        1\n",
       "final        1\n",
       "theyd        1\n",
       "dtype: int64"
      ]
     },
     "execution_count": 51,
     "metadata": {},
     "output_type": "execute_result"
    }
   ],
   "source": [
    "freq"
   ]
  },
  {
   "cell_type": "code",
   "execution_count": 52,
   "metadata": {},
   "outputs": [],
   "source": [
    "freq = list(freq.index)\n",
    "reviewData.body = reviewData.body.apply(lambda x: \" \".join(x for x in x.split() if x not in freq))"
   ]
  },
  {
   "cell_type": "markdown",
   "metadata": {},
   "source": [
    "#### Tokentization of reviews"
   ]
  },
  {
   "cell_type": "code",
   "execution_count": 53,
   "metadata": {},
   "outputs": [],
   "source": [
    "from nltk.tokenize import word_tokenize"
   ]
  },
  {
   "cell_type": "code",
   "execution_count": 54,
   "metadata": {},
   "outputs": [
    {
     "name": "stdout",
     "output_type": "stream",
     "text": [
      "['havent', 'installed', 'yet', 'two', 'week', 'wait', 'engineer', 'review', 'alert', 'people', 'outofdate', 'information', 'included', 'unit', 'regarding', 'book', 'phone', 'number', 'web', 'address', 'provided', 'mine', 'inaccurate', 'call', 'number', 'given', 'told', 'new', 'number', 'strongly', 'recommend', 'dont', 'automated', 'routing', 'type', 'talk', 'understands', 'little', 'phone', 'came', 'dangerously', 'close', 'encounter', 'wall', 'web', 'address', 'given', 'replace', 'shopinstore', 'without', 'quote', 'marks', 'course', 'expect', 'shall', 'revise', 'rating', 'unit', 'running', 'thought', 'information', 'might', 'helpful', 'prospective', 'buyers', 'edit', 'sometime', 'later', 'im', 'happy', 'performance', 'programme', 'integration', 'alexa', 'straightforward', 'unless', 'like', 'want', 'able', 'setchange', 'hot', 'water', 'via', 'smartthings', 'routines', 'search', 'smartthings', 'instructions', 'code', 'smartthings', 'community', 'havent', 'issues', 'wifi', 'batteries', 'still', 'going', 'strong', 'complaint', 'engineer', 'tried', 'baffle', 'science', 'letting', 'leave', 'old', 'place', 'even', 'said', 'situ', 'attempt', 'intimidate', 'cheeky', 'ber', 'soon', 'discovered', 'messing', 'wrong', 'woman', 'didnt', 'even', 'deploy', 'mum', 'death', 'stare', 'soupgraded', 'four', 'stars', 'fifth', 'docked', 'poor', 'booking', 'instructions', 'barefaced', 'effrontery', 'engineer']\n"
     ]
    }
   ],
   "source": [
    "tokens = word_tokenize(reviewData.iloc[1,1])\n",
    "print(tokens)"
   ]
  },
  {
   "cell_type": "code",
   "execution_count": 55,
   "metadata": {},
   "outputs": [
    {
     "data": {
      "text/plain": [
       "'havent installed yet two week wait engineer review alert people outofdate information included unit regarding book phone number web address provided mine inaccurate call number given told new number strongly recommend dont automated routing type talk understands little phone came dangerously close encounter wall web address given replace shopinstore without quote marks course expect shall revise rating unit running thought information might helpful prospective buyers edit sometime later im happy performance programme integration alexa straightforward unless like want able setchange hot water via smartthings routines search smartthings instructions code smartthings community havent issues wifi batteries still going strong complaint engineer tried baffle science letting leave old place even said situ attempt intimidate cheeky ber soon discovered messing wrong woman didnt even deploy mum death stare soupgraded four stars fifth docked poor booking instructions barefaced effrontery engineer'"
      ]
     },
     "execution_count": 55,
     "metadata": {},
     "output_type": "execute_result"
    }
   ],
   "source": [
    "reviewData.iloc[1,1]"
   ]
  },
  {
   "cell_type": "markdown",
   "metadata": {},
   "source": [
    "#### Doing Stemming, currenlty commented since we are preferring Lemit"
   ]
  },
  {
   "cell_type": "code",
   "execution_count": 57,
   "metadata": {},
   "outputs": [
    {
     "data": {
      "text/plain": [
       "0    paid britishga engin turn made nois look exist...\n",
       "1    havent instal yet two week wait engin review a...\n",
       "2    replac old 80 slide timer clock graviti fed st...\n",
       "3    bit apprehens buy case wire hassl worth look c...\n",
       "4    bought item amazon marketplac normal way save ...\n",
       "Name: body, dtype: object"
      ]
     },
     "execution_count": 57,
     "metadata": {},
     "output_type": "execute_result"
    }
   ],
   "source": [
    "from nltk.stem import PorterStemmer\n",
    "st = PorterStemmer()\n",
    "reviewData.body[:5].apply(lambda x: \" \".join([st.stem(word) for word in x.split()]))"
   ]
  },
  {
   "cell_type": "markdown",
   "metadata": {},
   "source": [
    "#### Doing Lemmatization"
   ]
  },
  {
   "cell_type": "code",
   "execution_count": 58,
   "metadata": {},
   "outputs": [
    {
     "data": {
      "text/plain": [
       "0    paid britishgas engineer turned made noise loo...\n",
       "1    havent installed yet two week wait engineer re...\n",
       "2    replaced old 80 slide timer clock gravity fed ...\n",
       "3    bit apprehensive buying case wiring hassle wor...\n",
       "4    bought item amazon marketplace normally way sa...\n",
       "Name: body, dtype: object"
      ]
     },
     "execution_count": 58,
     "metadata": {},
     "output_type": "execute_result"
    }
   ],
   "source": [
    "from textblob import Word\n",
    "reviewData.body = reviewData.body.apply(lambda x: \" \".join([Word(word).lemmatize() for word in x.split()]))\n",
    "reviewData.body.head()"
   ]
  },
  {
   "cell_type": "markdown",
   "metadata": {},
   "source": [
    "#### Word Cloud function is defined overe here"
   ]
  },
  {
   "cell_type": "code",
   "execution_count": 65,
   "metadata": {},
   "outputs": [],
   "source": [
    "def generate_wordcloud(text): \n",
    "    wordcloud = WordCloud(font_path='C:/Windows/Fonts/Verdana.ttf',\n",
    "                          relative_scaling = 1.0,\n",
    "                          stopwords = {'to', 'of'} \n",
    "                          ).generate(text)\n",
    "    plt.imshow(wordcloud)\n",
    "    plt.axis(\"off\")\n",
    "    plt.show()"
   ]
  },
  {
   "cell_type": "code",
   "execution_count": 66,
   "metadata": {},
   "outputs": [],
   "source": [
    "import matplotlib.pyplot as plt\n",
    "from wordcloud import WordCloud, STOPWORDS "
   ]
  },
  {
   "cell_type": "code",
   "execution_count": 67,
   "metadata": {},
   "outputs": [],
   "source": [
    "sentimentString = reviewData.iloc[1,1]"
   ]
  },
  {
   "cell_type": "code",
   "execution_count": 68,
   "metadata": {},
   "outputs": [],
   "source": [
    "# append to this string \n",
    "for i in range(2,len(reviewData)):\n",
    "    sentimentString = sentimentString + reviewData.iloc[i,1]"
   ]
  },
  {
   "cell_type": "code",
   "execution_count": 69,
   "metadata": {},
   "outputs": [
    {
     "data": {
      "image/png": "[encoded data removed]",
      "text/plain": [
       "<Figure size 432x288 with 1 Axes>"
      ]
     },
     "metadata": {},
     "output_type": "display_data"
    }
   ],
   "source": [
    "generate_wordcloud(sentimentString)"
   ]
  },
  {
   "cell_type": "markdown",
   "metadata": {},
   "source": [
    "#### This is the Sentiment Analysis "
   ]
  },
  {
   "cell_type": "code",
   "execution_count": 70,
   "metadata": {},
   "outputs": [],
   "source": [
    "# the functions generates polarity and subjectivity here, subsetting the polarity only here\n",
    "allReviewsSentiment = reviewData.body[:900].apply(lambda x: TextBlob(x).sentiment[0])"
   ]
  },
  {
   "cell_type": "code",
   "execution_count": 71,
   "metadata": {},
   "outputs": [],
   "source": [
    "# this contains boths subjectivity and polarity\n",
    "allReviewsSentimentComplete = reviewData.body[:900].apply(lambda x: TextBlob(x).sentiment)"
   ]
  },
  {
   "cell_type": "code",
   "execution_count": 72,
   "metadata": {},
   "outputs": [
    {
     "data": {
      "text/plain": [
       "0    (0.09405753968253966, 0.45099206349206356)\n",
       "1     (0.07432359307359304, 0.5765151515151515)\n",
       "2                  (0.3075, 0.5349999999999999)\n",
       "3    (0.14006238859180034, 0.46327985739750455)\n",
       "4      (0.0638888888888889, 0.3166666666666667)\n",
       "Name: body, dtype: object"
      ]
     },
     "execution_count": 72,
     "metadata": {},
     "output_type": "execute_result"
    }
   ],
   "source": [
    "allReviewsSentimentComplete.head()"
   ]
  },
  {
   "cell_type": "code",
   "execution_count": 73,
   "metadata": {},
   "outputs": [],
   "source": [
    "allReviewsSentiment.to_csv(out_folder + 'ReviewsSentiment.csv')"
   ]
  },
  {
   "cell_type": "code",
   "execution_count": 74,
   "metadata": {},
   "outputs": [],
   "source": [
    "## get the respective counts for all the reviews\n",
    "# if the polarity is above 0.75 Very Satisfied\n",
    "# if the polarity is between 0.5-0.74 Satisfied\n",
    "# if the polarity is between 0.2-0.5 Nice\n",
    "# if the polarity is between -0.2 to 0.2 Neutral\n",
    "# if the polarity is between -0.2 to -0.5 Dissatisfied\n",
    "# if the polarity is between -0.5 to -0.74 Very Dissatisfied\n",
    "# if the polarity is less than -0.75 Extremely Dissatisfied\n"
   ]
  },
  {
   "cell_type": "code",
   "execution_count": 75,
   "metadata": {},
   "outputs": [],
   "source": [
    "allReviewsSentimentDF = allReviewsSentiment.to_frame()"
   ]
  },
  {
   "cell_type": "code",
   "execution_count": 76,
   "metadata": {},
   "outputs": [
    {
     "data": {
      "text/html": [
       "<div>\n",
       "<style scoped>\n",
       "    .dataframe tbody tr th:only-of-type {\n",
       "        vertical-align: middle;\n",
       "    }\n",
       "\n",
       "    .dataframe tbody tr th {\n",
       "        vertical-align: top;\n",
       "    }\n",
       "\n",
       "    .dataframe thead th {\n",
       "        text-align: right;\n",
       "    }\n",
       "</style>\n",
       "<table border=\"1\" class=\"dataframe\">\n",
       "  <thead>\n",
       "    <tr style=\"text-align: right;\">\n",
       "      <th></th>\n",
       "      <th>body</th>\n",
       "    </tr>\n",
       "  </thead>\n",
       "  <tbody>\n",
       "    <tr>\n",
       "      <th>0</th>\n",
       "      <td>0.094058</td>\n",
       "    </tr>\n",
       "    <tr>\n",
       "      <th>1</th>\n",
       "      <td>0.074324</td>\n",
       "    </tr>\n",
       "    <tr>\n",
       "      <th>2</th>\n",
       "      <td>0.307500</td>\n",
       "    </tr>\n",
       "    <tr>\n",
       "      <th>3</th>\n",
       "      <td>0.140062</td>\n",
       "    </tr>\n",
       "    <tr>\n",
       "      <th>4</th>\n",
       "      <td>0.063889</td>\n",
       "    </tr>\n",
       "  </tbody>\n",
       "</table>\n",
       "</div>"
      ],
      "text/plain": [
       "       body\n",
       "0  0.094058\n",
       "1  0.074324\n",
       "2  0.307500\n",
       "3  0.140062\n",
       "4  0.063889"
      ]
     },
     "execution_count": 76,
     "metadata": {},
     "output_type": "execute_result"
    }
   ],
   "source": [
    "allReviewsSentimentDF.head()"
   ]
  },
  {
   "cell_type": "code",
   "execution_count": 77,
   "metadata": {},
   "outputs": [],
   "source": [
    "# Create a list to store the data\n",
    "grades = []\n",
    "\n",
    "# For each row in the column,\n",
    "for row in allReviewsSentimentDF['body']:\n",
    "    # if more than a value,\n",
    "    if row >= 0.75:\n",
    "       grades.append('Extremely Satisfied')\n",
    "    elif (row >= 0.5) & (row < 0.75):\n",
    "        grades.append('Satisfied')\n",
    "    elif (row >= 0.2) & (row < 0.5):\n",
    "        grades.append('Nice')\n",
    "    elif (row >= -0.2) & (row < 0.2):\n",
    "        grades.append('Neutral')\n",
    "    elif (row > -0.5) & (row <= -0.2):\n",
    "        grades.append('Bad')\n",
    "    elif (row >= -0.75) & (row < -0.5):\n",
    "        grades.append('Dis-satisfied')\n",
    "    elif  row < -0.75:\n",
    "        grades.append('Extremely Dis-satisfied')\n",
    "    else:\n",
    "        # Append a failing grade\n",
    "        grades.append('No Sentiment')\n",
    "        \n",
    "# Create a column from the list\n",
    "allReviewsSentimentDF['SentimentScore'] = grades"
   ]
  },
  {
   "cell_type": "code",
   "execution_count": 78,
   "metadata": {},
   "outputs": [
    {
     "data": {
      "text/html": [
       "<div>\n",
       "<style scoped>\n",
       "    .dataframe tbody tr th:only-of-type {\n",
       "        vertical-align: middle;\n",
       "    }\n",
       "\n",
       "    .dataframe tbody tr th {\n",
       "        vertical-align: top;\n",
       "    }\n",
       "\n",
       "    .dataframe thead th {\n",
       "        text-align: right;\n",
       "    }\n",
       "</style>\n",
       "<table border=\"1\" class=\"dataframe\">\n",
       "  <thead>\n",
       "    <tr style=\"text-align: right;\">\n",
       "      <th></th>\n",
       "      <th>body</th>\n",
       "      <th>SentimentScore</th>\n",
       "    </tr>\n",
       "  </thead>\n",
       "  <tbody>\n",
       "    <tr>\n",
       "      <th>0</th>\n",
       "      <td>0.094058</td>\n",
       "      <td>Neutral</td>\n",
       "    </tr>\n",
       "    <tr>\n",
       "      <th>1</th>\n",
       "      <td>0.074324</td>\n",
       "      <td>Neutral</td>\n",
       "    </tr>\n",
       "    <tr>\n",
       "      <th>2</th>\n",
       "      <td>0.307500</td>\n",
       "      <td>Nice</td>\n",
       "    </tr>\n",
       "    <tr>\n",
       "      <th>3</th>\n",
       "      <td>0.140062</td>\n",
       "      <td>Neutral</td>\n",
       "    </tr>\n",
       "    <tr>\n",
       "      <th>4</th>\n",
       "      <td>0.063889</td>\n",
       "      <td>Neutral</td>\n",
       "    </tr>\n",
       "  </tbody>\n",
       "</table>\n",
       "</div>"
      ],
      "text/plain": [
       "       body SentimentScore\n",
       "0  0.094058        Neutral\n",
       "1  0.074324        Neutral\n",
       "2  0.307500           Nice\n",
       "3  0.140062        Neutral\n",
       "4  0.063889        Neutral"
      ]
     },
     "execution_count": 78,
     "metadata": {},
     "output_type": "execute_result"
    }
   ],
   "source": [
    "allReviewsSentimentDF.head()"
   ]
  },
  {
   "cell_type": "code",
   "execution_count": 79,
   "metadata": {},
   "outputs": [
    {
     "data": {
      "text/plain": [
       "Neutral                    337\n",
       "Nice                       256\n",
       "Satisfied                   62\n",
       "Extremely Satisfied         37\n",
       "Bad                         14\n",
       "Dis-satisfied                3\n",
       "No Sentiment                 2\n",
       "Extremely Dis-satisfied      1\n",
       "Name: SentimentScore, dtype: int64"
      ]
     },
     "execution_count": 79,
     "metadata": {},
     "output_type": "execute_result"
    }
   ],
   "source": [
    "allReviewsSentimentDF.SentimentScore.value_counts()"
   ]
  },
  {
   "cell_type": "code",
   "execution_count": 80,
   "metadata": {},
   "outputs": [
    {
     "data": {
      "text/plain": [
       "pandas.core.series.Series"
      ]
     },
     "execution_count": 80,
     "metadata": {},
     "output_type": "execute_result"
    }
   ],
   "source": [
    "type(allReviewsSentimentDF.SentimentScore)"
   ]
  },
  {
   "cell_type": "code",
   "execution_count": 81,
   "metadata": {},
   "outputs": [
    {
     "data": {
      "text/plain": [
       "<matplotlib.axes._subplots.AxesSubplot at 0x2bc4aee9390>"
      ]
     },
     "execution_count": 81,
     "metadata": {},
     "output_type": "execute_result"
    },
    {
     "data": {
      "image/png": "[encoded data removed]",
      "text/plain": [
       "<Figure size 432x288 with 1 Axes>"
      ]
     },
     "metadata": {},
     "output_type": "display_data"
    }
   ],
   "source": [
    "allReviewsSentimentDF['SentimentScore'].value_counts().plot(kind='bar')"
   ]
  },
  {
   "cell_type": "code",
   "execution_count": 82,
   "metadata": {},
   "outputs": [
    {
     "data": {
      "text/html": [
       "<div>\n",
       "<style scoped>\n",
       "    .dataframe tbody tr th:only-of-type {\n",
       "        vertical-align: middle;\n",
       "    }\n",
       "\n",
       "    .dataframe tbody tr th {\n",
       "        vertical-align: top;\n",
       "    }\n",
       "\n",
       "    .dataframe thead th {\n",
       "        text-align: right;\n",
       "    }\n",
       "</style>\n",
       "<table border=\"1\" class=\"dataframe\">\n",
       "  <thead>\n",
       "    <tr style=\"text-align: right;\">\n",
       "      <th></th>\n",
       "      <th>author</th>\n",
       "      <th>body</th>\n",
       "      <th>date</th>\n",
       "      <th>helpful</th>\n",
       "      <th>rating</th>\n",
       "      <th>title</th>\n",
       "    </tr>\n",
       "  </thead>\n",
       "  <tbody>\n",
       "    <tr>\n",
       "      <th>0</th>\n",
       "      <td>[]</td>\n",
       "      <td>paid britishgas engineer turned made noise loo...</td>\n",
       "      <td>['8 October 2018']</td>\n",
       "      <td>['210 people found this helpful']</td>\n",
       "      <td>['2.0 out of 5 stars']</td>\n",
       "      <td>['BritishGas installation was a joke, buy it w...</td>\n",
       "    </tr>\n",
       "    <tr>\n",
       "      <th>1</th>\n",
       "      <td>[]</td>\n",
       "      <td>havent installed yet two week wait engineer re...</td>\n",
       "      <td>['29 September 2018']</td>\n",
       "      <td>['85 people found this helpful']</td>\n",
       "      <td>['4.0 out of 5 stars']</td>\n",
       "      <td>['PLEASE READ THIS IF YOU BUY WITH INSTALLATIO...</td>\n",
       "    </tr>\n",
       "    <tr>\n",
       "      <th>2</th>\n",
       "      <td>[]</td>\n",
       "      <td>replaced old 80 slide timer clock gravity fed ...</td>\n",
       "      <td>['16 January 2018']</td>\n",
       "      <td>['161 people found this helpful']</td>\n",
       "      <td>['5.0 out of 5 stars']</td>\n",
       "      <td>['Really useful, and sort of cool!']</td>\n",
       "    </tr>\n",
       "    <tr>\n",
       "      <th>3</th>\n",
       "      <td>[]</td>\n",
       "      <td>bit apprehensive buying case wiring hassle wor...</td>\n",
       "      <td>['1 October 2018']</td>\n",
       "      <td>['42 people found this helpful']</td>\n",
       "      <td>['5.0 out of 5 stars']</td>\n",
       "      <td>['Simple to install and use, great tech']</td>\n",
       "    </tr>\n",
       "    <tr>\n",
       "      <th>4</th>\n",
       "      <td>[]</td>\n",
       "      <td>bought item amazon marketplace normally way sa...</td>\n",
       "      <td>['23 October 2018']</td>\n",
       "      <td>['33 people found this helpful']</td>\n",
       "      <td>['1.0 out of 5 stars']</td>\n",
       "      <td>[\"Warning if buying used off Amazon Marketplac...</td>\n",
       "    </tr>\n",
       "  </tbody>\n",
       "</table>\n",
       "</div>"
      ],
      "text/plain": [
       "  author                                               body  \\\n",
       "0     []  paid britishgas engineer turned made noise loo...   \n",
       "1     []  havent installed yet two week wait engineer re...   \n",
       "2     []  replaced old 80 slide timer clock gravity fed ...   \n",
       "3     []  bit apprehensive buying case wiring hassle wor...   \n",
       "4     []  bought item amazon marketplace normally way sa...   \n",
       "\n",
       "                    date                            helpful  \\\n",
       "0     ['8 October 2018']  ['210 people found this helpful']   \n",
       "1  ['29 September 2018']   ['85 people found this helpful']   \n",
       "2    ['16 January 2018']  ['161 people found this helpful']   \n",
       "3     ['1 October 2018']   ['42 people found this helpful']   \n",
       "4    ['23 October 2018']   ['33 people found this helpful']   \n",
       "\n",
       "                   rating                                              title  \n",
       "0  ['2.0 out of 5 stars']  ['BritishGas installation was a joke, buy it w...  \n",
       "1  ['4.0 out of 5 stars']  ['PLEASE READ THIS IF YOU BUY WITH INSTALLATIO...  \n",
       "2  ['5.0 out of 5 stars']               ['Really useful, and sort of cool!']  \n",
       "3  ['5.0 out of 5 stars']          ['Simple to install and use, great tech']  \n",
       "4  ['1.0 out of 5 stars']  [\"Warning if buying used off Amazon Marketplac...  "
      ]
     },
     "execution_count": 82,
     "metadata": {},
     "output_type": "execute_result"
    }
   ],
   "source": [
    "reviewData.head()"
   ]
  },
  {
   "cell_type": "code",
   "execution_count": 83,
   "metadata": {},
   "outputs": [
    {
     "data": {
      "text/plain": [
       "712"
      ]
     },
     "execution_count": 83,
     "metadata": {},
     "output_type": "execute_result"
    }
   ],
   "source": [
    "len(reviewData)"
   ]
  },
  {
   "cell_type": "code",
   "execution_count": 84,
   "metadata": {},
   "outputs": [],
   "source": [
    "#### Merge the review data with Sentiment generated\n",
    "\n",
    "# add column Polarity Score\n",
    "reviewData['polarityScore'] = allReviewsSentimentDF['body']\n",
    "\n"
   ]
  },
  {
   "cell_type": "code",
   "execution_count": 85,
   "metadata": {},
   "outputs": [
    {
     "data": {
      "text/html": [
       "<div>\n",
       "<style scoped>\n",
       "    .dataframe tbody tr th:only-of-type {\n",
       "        vertical-align: middle;\n",
       "    }\n",
       "\n",
       "    .dataframe tbody tr th {\n",
       "        vertical-align: top;\n",
       "    }\n",
       "\n",
       "    .dataframe thead th {\n",
       "        text-align: right;\n",
       "    }\n",
       "</style>\n",
       "<table border=\"1\" class=\"dataframe\">\n",
       "  <thead>\n",
       "    <tr style=\"text-align: right;\">\n",
       "      <th></th>\n",
       "      <th>author</th>\n",
       "      <th>body</th>\n",
       "      <th>date</th>\n",
       "      <th>helpful</th>\n",
       "      <th>rating</th>\n",
       "      <th>title</th>\n",
       "      <th>polarityScore</th>\n",
       "    </tr>\n",
       "  </thead>\n",
       "  <tbody>\n",
       "    <tr>\n",
       "      <th>0</th>\n",
       "      <td>[]</td>\n",
       "      <td>paid britishgas engineer turned made noise loo...</td>\n",
       "      <td>['8 October 2018']</td>\n",
       "      <td>['210 people found this helpful']</td>\n",
       "      <td>['2.0 out of 5 stars']</td>\n",
       "      <td>['BritishGas installation was a joke, buy it w...</td>\n",
       "      <td>0.094058</td>\n",
       "    </tr>\n",
       "    <tr>\n",
       "      <th>1</th>\n",
       "      <td>[]</td>\n",
       "      <td>havent installed yet two week wait engineer re...</td>\n",
       "      <td>['29 September 2018']</td>\n",
       "      <td>['85 people found this helpful']</td>\n",
       "      <td>['4.0 out of 5 stars']</td>\n",
       "      <td>['PLEASE READ THIS IF YOU BUY WITH INSTALLATIO...</td>\n",
       "      <td>0.074324</td>\n",
       "    </tr>\n",
       "    <tr>\n",
       "      <th>2</th>\n",
       "      <td>[]</td>\n",
       "      <td>replaced old 80 slide timer clock gravity fed ...</td>\n",
       "      <td>['16 January 2018']</td>\n",
       "      <td>['161 people found this helpful']</td>\n",
       "      <td>['5.0 out of 5 stars']</td>\n",
       "      <td>['Really useful, and sort of cool!']</td>\n",
       "      <td>0.307500</td>\n",
       "    </tr>\n",
       "    <tr>\n",
       "      <th>3</th>\n",
       "      <td>[]</td>\n",
       "      <td>bit apprehensive buying case wiring hassle wor...</td>\n",
       "      <td>['1 October 2018']</td>\n",
       "      <td>['42 people found this helpful']</td>\n",
       "      <td>['5.0 out of 5 stars']</td>\n",
       "      <td>['Simple to install and use, great tech']</td>\n",
       "      <td>0.140062</td>\n",
       "    </tr>\n",
       "    <tr>\n",
       "      <th>4</th>\n",
       "      <td>[]</td>\n",
       "      <td>bought item amazon marketplace normally way sa...</td>\n",
       "      <td>['23 October 2018']</td>\n",
       "      <td>['33 people found this helpful']</td>\n",
       "      <td>['1.0 out of 5 stars']</td>\n",
       "      <td>[\"Warning if buying used off Amazon Marketplac...</td>\n",
       "      <td>0.063889</td>\n",
       "    </tr>\n",
       "  </tbody>\n",
       "</table>\n",
       "</div>"
      ],
      "text/plain": [
       "  author                                               body  \\\n",
       "0     []  paid britishgas engineer turned made noise loo...   \n",
       "1     []  havent installed yet two week wait engineer re...   \n",
       "2     []  replaced old 80 slide timer clock gravity fed ...   \n",
       "3     []  bit apprehensive buying case wiring hassle wor...   \n",
       "4     []  bought item amazon marketplace normally way sa...   \n",
       "\n",
       "                    date                            helpful  \\\n",
       "0     ['8 October 2018']  ['210 people found this helpful']   \n",
       "1  ['29 September 2018']   ['85 people found this helpful']   \n",
       "2    ['16 January 2018']  ['161 people found this helpful']   \n",
       "3     ['1 October 2018']   ['42 people found this helpful']   \n",
       "4    ['23 October 2018']   ['33 people found this helpful']   \n",
       "\n",
       "                   rating                                              title  \\\n",
       "0  ['2.0 out of 5 stars']  ['BritishGas installation was a joke, buy it w...   \n",
       "1  ['4.0 out of 5 stars']  ['PLEASE READ THIS IF YOU BUY WITH INSTALLATIO...   \n",
       "2  ['5.0 out of 5 stars']               ['Really useful, and sort of cool!']   \n",
       "3  ['5.0 out of 5 stars']          ['Simple to install and use, great tech']   \n",
       "4  ['1.0 out of 5 stars']  [\"Warning if buying used off Amazon Marketplac...   \n",
       "\n",
       "   polarityScore  \n",
       "0       0.094058  \n",
       "1       0.074324  \n",
       "2       0.307500  \n",
       "3       0.140062  \n",
       "4       0.063889  "
      ]
     },
     "execution_count": 85,
     "metadata": {},
     "output_type": "execute_result"
    }
   ],
   "source": [
    "reviewData.head()"
   ]
  },
  {
   "cell_type": "markdown",
   "metadata": {},
   "source": [
    "#### Generate the word-cloud for sentiments with bad reviews"
   ]
  },
  {
   "cell_type": "code",
   "execution_count": 86,
   "metadata": {},
   "outputs": [],
   "source": [
    "negativeReviews = reviewData[reviewData.polarityScore < 0]"
   ]
  },
  {
   "cell_type": "code",
   "execution_count": 87,
   "metadata": {},
   "outputs": [
    {
     "data": {
      "text/html": [
       "<div>\n",
       "<style scoped>\n",
       "    .dataframe tbody tr th:only-of-type {\n",
       "        vertical-align: middle;\n",
       "    }\n",
       "\n",
       "    .dataframe tbody tr th {\n",
       "        vertical-align: top;\n",
       "    }\n",
       "\n",
       "    .dataframe thead th {\n",
       "        text-align: right;\n",
       "    }\n",
       "</style>\n",
       "<table border=\"1\" class=\"dataframe\">\n",
       "  <thead>\n",
       "    <tr style=\"text-align: right;\">\n",
       "      <th></th>\n",
       "      <th>author</th>\n",
       "      <th>body</th>\n",
       "      <th>date</th>\n",
       "      <th>helpful</th>\n",
       "      <th>rating</th>\n",
       "      <th>title</th>\n",
       "      <th>polarityScore</th>\n",
       "    </tr>\n",
       "  </thead>\n",
       "  <tbody>\n",
       "    <tr>\n",
       "      <th>3</th>\n",
       "      <td>[]</td>\n",
       "      <td>contact number website given leaflet longer mu...</td>\n",
       "      <td>['22 October 2018']</td>\n",
       "      <td>['6 people found this helpful']</td>\n",
       "      <td>['1.0 out of 5 stars']</td>\n",
       "      <td>['Poor installation booking service']</td>\n",
       "      <td>-0.066667</td>\n",
       "    </tr>\n",
       "    <tr>\n",
       "      <th>6</th>\n",
       "      <td>[]</td>\n",
       "      <td>bought sale july knowing itd much easier get i...</td>\n",
       "      <td>['23 July 2017']</td>\n",
       "      <td>['8 people found this helpful']</td>\n",
       "      <td>['5.0 out of 5 stars']</td>\n",
       "      <td>['Easy and quick install - great product']</td>\n",
       "      <td>-0.091667</td>\n",
       "    </tr>\n",
       "    <tr>\n",
       "      <th>7</th>\n",
       "      <td>[]</td>\n",
       "      <td>little difficulty managed arrange fri 23rd nov...</td>\n",
       "      <td>['23 November 2018']</td>\n",
       "      <td>['5 people found this helpful']</td>\n",
       "      <td>['1.0 out of 5 stars']</td>\n",
       "      <td>['Held To Ransom By Hive']</td>\n",
       "      <td>-0.233796</td>\n",
       "    </tr>\n",
       "    <tr>\n",
       "      <th>2</th>\n",
       "      <td>[]</td>\n",
       "      <td>review also negative one overall mixed wish ta...</td>\n",
       "      <td>['23 November 2018']</td>\n",
       "      <td>['4 people found this helpful']</td>\n",
       "      <td>['1.0 out of 5 stars']</td>\n",
       "      <td>['Avoid!']</td>\n",
       "      <td>-0.055093</td>\n",
       "    </tr>\n",
       "    <tr>\n",
       "      <th>4</th>\n",
       "      <td>[]</td>\n",
       "      <td>bought version without professional im diy exp...</td>\n",
       "      <td>['26 November 2018']</td>\n",
       "      <td>['4 people found this helpful']</td>\n",
       "      <td>['5.0 out of 5 stars']</td>\n",
       "      <td>['Easy to install, easy to use']</td>\n",
       "      <td>-0.082738</td>\n",
       "    </tr>\n",
       "  </tbody>\n",
       "</table>\n",
       "</div>"
      ],
      "text/plain": [
       "  author                                               body  \\\n",
       "3     []  contact number website given leaflet longer mu...   \n",
       "6     []  bought sale july knowing itd much easier get i...   \n",
       "7     []  little difficulty managed arrange fri 23rd nov...   \n",
       "2     []  review also negative one overall mixed wish ta...   \n",
       "4     []  bought version without professional im diy exp...   \n",
       "\n",
       "                   date                          helpful  \\\n",
       "3   ['22 October 2018']  ['6 people found this helpful']   \n",
       "6      ['23 July 2017']  ['8 people found this helpful']   \n",
       "7  ['23 November 2018']  ['5 people found this helpful']   \n",
       "2  ['23 November 2018']  ['4 people found this helpful']   \n",
       "4  ['26 November 2018']  ['4 people found this helpful']   \n",
       "\n",
       "                   rating                                       title  \\\n",
       "3  ['1.0 out of 5 stars']       ['Poor installation booking service']   \n",
       "6  ['5.0 out of 5 stars']  ['Easy and quick install - great product']   \n",
       "7  ['1.0 out of 5 stars']                  ['Held To Ransom By Hive']   \n",
       "2  ['1.0 out of 5 stars']                                  ['Avoid!']   \n",
       "4  ['5.0 out of 5 stars']            ['Easy to install, easy to use']   \n",
       "\n",
       "   polarityScore  \n",
       "3      -0.066667  \n",
       "6      -0.091667  \n",
       "7      -0.233796  \n",
       "2      -0.055093  \n",
       "4      -0.082738  "
      ]
     },
     "execution_count": 87,
     "metadata": {},
     "output_type": "execute_result"
    }
   ],
   "source": [
    "negativeReviews.head()"
   ]
  },
  {
   "cell_type": "code",
   "execution_count": 88,
   "metadata": {},
   "outputs": [],
   "source": [
    "negativeString = negativeReviews.iloc[1,1]"
   ]
  },
  {
   "cell_type": "code",
   "execution_count": 89,
   "metadata": {},
   "outputs": [],
   "source": [
    "# append to this string \n",
    "for i in range(2,len(reviewData)):\n",
    "    negativeString = negativeString + reviewData.iloc[i,1]"
   ]
  },
  {
   "cell_type": "code",
   "execution_count": 90,
   "metadata": {},
   "outputs": [
    {
     "data": {
      "image/png": "[encoded data removed]",
      "text/plain": [
       "<Figure size 432x288 with 1 Axes>"
      ]
     },
     "metadata": {},
     "output_type": "display_data"
    }
   ],
   "source": [
    "generate_wordcloud(negativeString)"
   ]
  },
  {
   "cell_type": "code",
   "execution_count": null,
   "metadata": {},
   "outputs": [],
   "source": []
  }
 ],
 "metadata": {
  "kernelspec": {
   "display_name": "Python 3",
   "language": "python",
   "name": "python3"
  },
  "language_info": {
   "codemirror_mode": {
    "name": "ipython",
    "version": 3
   },
   "file_extension": ".py",
   "mimetype": "text/x-python",
   "name": "python",
   "nbconvert_exporter": "python",
   "pygments_lexer": "ipython3",
   "version": "3.6.5"
  }
 },
 "nbformat": 4,
 "nbformat_minor": 2
}
